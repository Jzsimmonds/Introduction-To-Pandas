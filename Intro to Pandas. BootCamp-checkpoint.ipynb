{
 "cells": [
  {
   "cell_type": "markdown",
   "id": "0e3b8fc7",
   "metadata": {},
   "source": [
    "# Pandas\n"
   ]
  },
  {
   "cell_type": "markdown",
   "id": "25703f5c",
   "metadata": {},
   "source": [
    "Pandas means \"Python Data Analysis Library\" \n",
    "Is for: Readingm writing, manipulating and analyzing data. \n",
    "It helpful for analyzing largest data sets "
   ]
  },
  {
   "cell_type": "markdown",
   "id": "e156878f",
   "metadata": {},
   "source": [
    "# Pandas Objects"
   ]
  },
  {
   "cell_type": "raw",
   "id": "98e98e16",
   "metadata": {},
   "source": [
    "There are two data structures in Pandas library: \n",
    "1. Series\n",
    "2. DataFrame"
   ]
  },
  {
   "cell_type": "markdown",
   "id": "7fe4eaf1",
   "metadata": {},
   "source": [
    "# Series"
   ]
  },
  {
   "cell_type": "markdown",
   "id": "c67eb8de",
   "metadata": {},
   "source": [
    "Is an unidemensional array tagged. Can contain data from different data types, is like a column in an table.\n",
    "Series are like lists in python, they can take any value and any type of data, such as strings, integers, floats, etc."
   ]
  },
  {
   "cell_type": "markdown",
   "id": "df3834d4",
   "metadata": {},
   "source": [
    "# Creating an Series "
   ]
  },
  {
   "cell_type": "code",
   "execution_count": 2,
   "id": "37c88da3",
   "metadata": {},
   "outputs": [],
   "source": [
    "# Importing Pandas library\n",
    "import pandas as pd "
   ]
  },
  {
   "cell_type": "code",
   "execution_count": 2,
   "id": "f7505e7a",
   "metadata": {},
   "outputs": [
    {
     "data": {
      "text/plain": [
       "0          Jose\n",
       "1            22\n",
       "2          King\n",
       "3    Winterfell\n",
       "dtype: object"
      ]
     },
     "execution_count": 2,
     "metadata": {},
     "output_type": "execute_result"
    }
   ],
   "source": [
    "# Creating a Pandas Series from a List \n",
    "# Creating a List \n",
    "l = ['Jose', 22, 'King', 'Winterfell']\n",
    "# Creating a Serie\n",
    "pd.Series(l)"
   ]
  },
  {
   "cell_type": "code",
   "execution_count": 4,
   "id": "6003ef2b",
   "metadata": {},
   "outputs": [
    {
     "data": {
      "text/plain": [
       "One       1\n",
       "Two       2\n",
       "Three     3\n",
       "Four      4\n",
       "Five      5\n",
       "Six       6\n",
       "Seven     7\n",
       "Eight     8\n",
       "Nine      9\n",
       "Ten      10\n",
       "dtype: int64"
      ]
     },
     "execution_count": 4,
     "metadata": {},
     "output_type": "execute_result"
    }
   ],
   "source": [
    "# Creating a Pandas Series from a Dictionary \n",
    "# Creating a dictionary\n",
    "l = {'One': 1, 'Two': 2, 'Three': 3, 'Four': 4, 'Five': 5, 'Six': 6, 'Seven': 7, 'Eight': 8, 'Nine': 9, 'Ten': 10}\n",
    "# Creating a Serie\n",
    "pd.Series(l)"
   ]
  },
  {
   "cell_type": "code",
   "execution_count": 3,
   "id": "b5c85e48",
   "metadata": {},
   "outputs": [
    {
     "name": "stdout",
     "output_type": "stream",
     "text": [
      "0    0.25\n",
      "1    0.50\n",
      "2    0.75\n",
      "3    1.00\n",
      "dtype: float64\n"
     ]
    }
   ],
   "source": [
    "# Example of Series Object \n",
    "data = pd.Series([0.25, 0.5,0.75,1.0])\n",
    "print(data)"
   ]
  },
  {
   "cell_type": "markdown",
   "id": "eb2c3343",
   "metadata": {},
   "source": [
    "# DataFrame "
   ]
  },
  {
   "cell_type": "markdown",
   "id": "bb85557d",
   "metadata": {},
   "source": [
    "Is two-dimensional tabular data structure with labeled axes. Think a 'DataFra,e' object as a collection of 'series', where each of these object in the 'Series' shares a common index, the index of the 'DataFrame' object. "
   ]
  },
  {
   "cell_type": "markdown",
   "id": "8bc4cf3a",
   "metadata": {},
   "source": [
    "# Creating A DataFrame"
   ]
  },
  {
   "cell_type": "markdown",
   "id": "efa7d4a4",
   "metadata": {},
   "source": [
    "We can create a DataFrame from a list or a Numpy Array"
   ]
  },
  {
   "cell_type": "code",
   "execution_count": 5,
   "id": "1aa78581",
   "metadata": {},
   "outputs": [
    {
     "data": {
      "text/html": [
       "<div>\n",
       "<style scoped>\n",
       "    .dataframe tbody tr th:only-of-type {\n",
       "        vertical-align: middle;\n",
       "    }\n",
       "\n",
       "    .dataframe tbody tr th {\n",
       "        vertical-align: top;\n",
       "    }\n",
       "\n",
       "    .dataframe thead th {\n",
       "        text-align: right;\n",
       "    }\n",
       "</style>\n",
       "<table border=\"1\" class=\"dataframe\">\n",
       "  <thead>\n",
       "    <tr style=\"text-align: right;\">\n",
       "      <th></th>\n",
       "      <th>0</th>\n",
       "      <th>1</th>\n",
       "      <th>2</th>\n",
       "    </tr>\n",
       "  </thead>\n",
       "  <tbody>\n",
       "    <tr>\n",
       "      <th>0</th>\n",
       "      <td>1000</td>\n",
       "      <td>Steve</td>\n",
       "      <td>86.29</td>\n",
       "    </tr>\n",
       "    <tr>\n",
       "      <th>1</th>\n",
       "      <td>1001</td>\n",
       "      <td>Mathew</td>\n",
       "      <td>91.63</td>\n",
       "    </tr>\n",
       "    <tr>\n",
       "      <th>2</th>\n",
       "      <td>1002</td>\n",
       "      <td>Jose</td>\n",
       "      <td>72.90</td>\n",
       "    </tr>\n",
       "    <tr>\n",
       "      <th>3</th>\n",
       "      <td>1003</td>\n",
       "      <td>Patty</td>\n",
       "      <td>69.23</td>\n",
       "    </tr>\n",
       "    <tr>\n",
       "      <th>4</th>\n",
       "      <td>1004</td>\n",
       "      <td>Vin</td>\n",
       "      <td>88.30</td>\n",
       "    </tr>\n",
       "  </tbody>\n",
       "</table>\n",
       "</div>"
      ],
      "text/plain": [
       "      0       1      2\n",
       "0  1000   Steve  86.29\n",
       "1  1001  Mathew  91.63\n",
       "2  1002    Jose  72.90\n",
       "3  1003   Patty  69.23\n",
       "4  1004     Vin  88.30"
      ]
     },
     "execution_count": 5,
     "metadata": {},
     "output_type": "execute_result"
    }
   ],
   "source": [
    "# Example \n",
    "data = [[1000, 'Steve',86.29],\n",
    "       [1001, 'Mathew', 91.63],\n",
    "       [1002, 'Jose', 72.90],\n",
    "       [1003, 'Patty', 69.23],\n",
    "       [1004, 'Vin', 88.30]]\n",
    "pd.DataFrame(data)"
   ]
  },
  {
   "cell_type": "code",
   "execution_count": 8,
   "id": "8cee1466",
   "metadata": {},
   "outputs": [
    {
     "name": "stdout",
     "output_type": "stream",
     "text": [
      "<class 'pandas.core.arrays.floating.FloatingArray'>\n"
     ]
    }
   ],
   "source": [
    "# from a Numpy array create a DataFrame\n",
    "heights = pd.array([1.80,1.75,1.90,1.60,1.55,1.65,1.70,1.82])\n",
    "print(type(heights))"
   ]
  },
  {
   "cell_type": "code",
   "execution_count": 17,
   "id": "31111a02",
   "metadata": {},
   "outputs": [],
   "source": [
    "x=pd.DataFrame(heights)"
   ]
  },
  {
   "cell_type": "code",
   "execution_count": 18,
   "id": "1a6f14af",
   "metadata": {},
   "outputs": [
    {
     "data": {
      "text/html": [
       "<div>\n",
       "<style scoped>\n",
       "    .dataframe tbody tr th:only-of-type {\n",
       "        vertical-align: middle;\n",
       "    }\n",
       "\n",
       "    .dataframe tbody tr th {\n",
       "        vertical-align: top;\n",
       "    }\n",
       "\n",
       "    .dataframe thead th {\n",
       "        text-align: right;\n",
       "    }\n",
       "</style>\n",
       "<table border=\"1\" class=\"dataframe\">\n",
       "  <thead>\n",
       "    <tr style=\"text-align: right;\">\n",
       "      <th></th>\n",
       "      <th>0</th>\n",
       "    </tr>\n",
       "  </thead>\n",
       "  <tbody>\n",
       "    <tr>\n",
       "      <th>0</th>\n",
       "      <td>1.8</td>\n",
       "    </tr>\n",
       "    <tr>\n",
       "      <th>1</th>\n",
       "      <td>1.75</td>\n",
       "    </tr>\n",
       "    <tr>\n",
       "      <th>2</th>\n",
       "      <td>1.9</td>\n",
       "    </tr>\n",
       "    <tr>\n",
       "      <th>3</th>\n",
       "      <td>1.6</td>\n",
       "    </tr>\n",
       "    <tr>\n",
       "      <th>4</th>\n",
       "      <td>1.55</td>\n",
       "    </tr>\n",
       "    <tr>\n",
       "      <th>5</th>\n",
       "      <td>1.65</td>\n",
       "    </tr>\n",
       "    <tr>\n",
       "      <th>6</th>\n",
       "      <td>1.7</td>\n",
       "    </tr>\n",
       "    <tr>\n",
       "      <th>7</th>\n",
       "      <td>1.82</td>\n",
       "    </tr>\n",
       "  </tbody>\n",
       "</table>\n",
       "</div>"
      ],
      "text/plain": [
       "      0\n",
       "0   1.8\n",
       "1  1.75\n",
       "2   1.9\n",
       "3   1.6\n",
       "4  1.55\n",
       "5  1.65\n",
       "6   1.7\n",
       "7  1.82"
      ]
     },
     "execution_count": 18,
     "metadata": {},
     "output_type": "execute_result"
    }
   ],
   "source": [
    "x"
   ]
  },
  {
   "cell_type": "code",
   "execution_count": 12,
   "id": "e8b64497",
   "metadata": {},
   "outputs": [
    {
     "data": {
      "text/plain": [
       "pandas.core.frame.DataFrame"
      ]
     },
     "execution_count": 12,
     "metadata": {},
     "output_type": "execute_result"
    }
   ],
   "source": [
    "type(x)"
   ]
  },
  {
   "cell_type": "code",
   "execution_count": 14,
   "id": "a1d533a2",
   "metadata": {},
   "outputs": [
    {
     "data": {
      "text/html": [
       "<div>\n",
       "<style scoped>\n",
       "    .dataframe tbody tr th:only-of-type {\n",
       "        vertical-align: middle;\n",
       "    }\n",
       "\n",
       "    .dataframe tbody tr th {\n",
       "        vertical-align: top;\n",
       "    }\n",
       "\n",
       "    .dataframe thead th {\n",
       "        text-align: right;\n",
       "    }\n",
       "</style>\n",
       "<table border=\"1\" class=\"dataframe\">\n",
       "  <thead>\n",
       "    <tr style=\"text-align: right;\">\n",
       "      <th></th>\n",
       "      <th>Regd. No</th>\n",
       "      <th>Name</th>\n",
       "      <th>Marks%</th>\n",
       "    </tr>\n",
       "  </thead>\n",
       "  <tbody>\n",
       "    <tr>\n",
       "      <th>1</th>\n",
       "      <td>1000</td>\n",
       "      <td>Steve</td>\n",
       "      <td>86.29</td>\n",
       "    </tr>\n",
       "    <tr>\n",
       "      <th>2</th>\n",
       "      <td>1001</td>\n",
       "      <td>Mathew</td>\n",
       "      <td>91.63</td>\n",
       "    </tr>\n",
       "    <tr>\n",
       "      <th>3</th>\n",
       "      <td>1002</td>\n",
       "      <td>Jose</td>\n",
       "      <td>72.90</td>\n",
       "    </tr>\n",
       "    <tr>\n",
       "      <th>4</th>\n",
       "      <td>1003</td>\n",
       "      <td>Patty</td>\n",
       "      <td>69.23</td>\n",
       "    </tr>\n",
       "    <tr>\n",
       "      <th>5</th>\n",
       "      <td>1004</td>\n",
       "      <td>Vin</td>\n",
       "      <td>88.30</td>\n",
       "    </tr>\n",
       "  </tbody>\n",
       "</table>\n",
       "</div>"
      ],
      "text/plain": [
       "   Regd. No    Name  Marks%\n",
       "1      1000   Steve   86.29\n",
       "2      1001  Mathew   91.63\n",
       "3      1002    Jose   72.90\n",
       "4      1003   Patty   69.23\n",
       "5      1004     Vin   88.30"
      ]
     },
     "execution_count": 14,
     "metadata": {},
     "output_type": "execute_result"
    }
   ],
   "source": [
    "# Add names to he column of a DataFrame and can give your own index\n",
    "data = [[1000, 'Steve',86.29],\n",
    "       [1001, 'Mathew', 91.63],\n",
    "       [1002, 'Jose', 72.90],\n",
    "       [1003, 'Patty', 69.23],\n",
    "       [1004, 'Vin', 88.30]]\n",
    "pd.DataFrame(data, columns=['Regd. No', 'Name', 'Marks%'], index=[1,2,3,4,5])"
   ]
  },
  {
   "cell_type": "code",
   "execution_count": 19,
   "id": "43e39609",
   "metadata": {},
   "outputs": [],
   "source": [
    "x=pd.DataFrame(heights, columns=['Heights'])"
   ]
  },
  {
   "cell_type": "code",
   "execution_count": 20,
   "id": "7d738c9b",
   "metadata": {},
   "outputs": [
    {
     "data": {
      "text/html": [
       "<div>\n",
       "<style scoped>\n",
       "    .dataframe tbody tr th:only-of-type {\n",
       "        vertical-align: middle;\n",
       "    }\n",
       "\n",
       "    .dataframe tbody tr th {\n",
       "        vertical-align: top;\n",
       "    }\n",
       "\n",
       "    .dataframe thead th {\n",
       "        text-align: right;\n",
       "    }\n",
       "</style>\n",
       "<table border=\"1\" class=\"dataframe\">\n",
       "  <thead>\n",
       "    <tr style=\"text-align: right;\">\n",
       "      <th></th>\n",
       "      <th>Heights</th>\n",
       "    </tr>\n",
       "  </thead>\n",
       "  <tbody>\n",
       "    <tr>\n",
       "      <th>0</th>\n",
       "      <td>1.8</td>\n",
       "    </tr>\n",
       "    <tr>\n",
       "      <th>1</th>\n",
       "      <td>1.75</td>\n",
       "    </tr>\n",
       "    <tr>\n",
       "      <th>2</th>\n",
       "      <td>1.9</td>\n",
       "    </tr>\n",
       "    <tr>\n",
       "      <th>3</th>\n",
       "      <td>1.6</td>\n",
       "    </tr>\n",
       "    <tr>\n",
       "      <th>4</th>\n",
       "      <td>1.55</td>\n",
       "    </tr>\n",
       "    <tr>\n",
       "      <th>5</th>\n",
       "      <td>1.65</td>\n",
       "    </tr>\n",
       "    <tr>\n",
       "      <th>6</th>\n",
       "      <td>1.7</td>\n",
       "    </tr>\n",
       "    <tr>\n",
       "      <th>7</th>\n",
       "      <td>1.82</td>\n",
       "    </tr>\n",
       "  </tbody>\n",
       "</table>\n",
       "</div>"
      ],
      "text/plain": [
       "   Heights\n",
       "0      1.8\n",
       "1     1.75\n",
       "2      1.9\n",
       "3      1.6\n",
       "4     1.55\n",
       "5     1.65\n",
       "6      1.7\n",
       "7     1.82"
      ]
     },
     "execution_count": 20,
     "metadata": {},
     "output_type": "execute_result"
    }
   ],
   "source": [
    "x"
   ]
  },
  {
   "cell_type": "code",
   "execution_count": 21,
   "id": "5e8bd6cc",
   "metadata": {},
   "outputs": [
    {
     "data": {
      "text/html": [
       "<div>\n",
       "<style scoped>\n",
       "    .dataframe tbody tr th:only-of-type {\n",
       "        vertical-align: middle;\n",
       "    }\n",
       "\n",
       "    .dataframe tbody tr th {\n",
       "        vertical-align: top;\n",
       "    }\n",
       "\n",
       "    .dataframe thead th {\n",
       "        text-align: right;\n",
       "    }\n",
       "</style>\n",
       "<table border=\"1\" class=\"dataframe\">\n",
       "  <thead>\n",
       "    <tr style=\"text-align: right;\">\n",
       "      <th></th>\n",
       "      <th>Regd. No</th>\n",
       "      <th>Names</th>\n",
       "      <th>Marks</th>\n",
       "    </tr>\n",
       "  </thead>\n",
       "  <tbody>\n",
       "    <tr>\n",
       "      <th>0</th>\n",
       "      <td>1000</td>\n",
       "      <td>Steve</td>\n",
       "      <td>86.29</td>\n",
       "    </tr>\n",
       "    <tr>\n",
       "      <th>1</th>\n",
       "      <td>1001</td>\n",
       "      <td>Mathew</td>\n",
       "      <td>91.63</td>\n",
       "    </tr>\n",
       "    <tr>\n",
       "      <th>2</th>\n",
       "      <td>1002</td>\n",
       "      <td>Jose</td>\n",
       "      <td>72.90</td>\n",
       "    </tr>\n",
       "    <tr>\n",
       "      <th>3</th>\n",
       "      <td>1003</td>\n",
       "      <td>Patty</td>\n",
       "      <td>69.23</td>\n",
       "    </tr>\n",
       "    <tr>\n",
       "      <th>4</th>\n",
       "      <td>1004</td>\n",
       "      <td>Vin</td>\n",
       "      <td>88.30</td>\n",
       "    </tr>\n",
       "  </tbody>\n",
       "</table>\n",
       "</div>"
      ],
      "text/plain": [
       "   Regd. No   Names  Marks\n",
       "0      1000   Steve  86.29\n",
       "1      1001  Mathew  91.63\n",
       "2      1002    Jose  72.90\n",
       "3      1003   Patty  69.23\n",
       "4      1004     Vin  88.30"
      ]
     },
     "execution_count": 21,
     "metadata": {},
     "output_type": "execute_result"
    }
   ],
   "source": [
    "# Can create a DataFrame from a Dictionary \n",
    "data = {'Regd. No': [1000,1001,1002,1003,1004],\n",
    "       'Names': ['Steve', 'Mathew', 'Jose', 'Patty', 'Vin'],\n",
    "       'Marks': [86.29,91.63,72.90,69.23,88.30]}\n",
    "pd.DataFrame(data)"
   ]
  },
  {
   "cell_type": "markdown",
   "id": "db18e5e4",
   "metadata": {},
   "source": [
    "# a Column is a Series \n",
    "A data frame is a collection of Series.\n",
    "A Series is a column in a table or a DataFrame\n"
   ]
  },
  {
   "cell_type": "markdown",
   "id": "4555aef4",
   "metadata": {},
   "source": [
    "# Read and Write Files"
   ]
  },
  {
   "cell_type": "code",
   "execution_count": 23,
   "id": "a631da9b",
   "metadata": {},
   "outputs": [],
   "source": [
    "# Reading Data Files "
   ]
  },
  {
   "cell_type": "markdown",
   "id": "0d6003c4",
   "metadata": {},
   "source": [
    "Data exists in many formats. The most basic of these is the CSV file. CSV stands for comma-separated-values.\n",
    "\n",
    "CSV files are usually created by programs that handle large amounts of data. They are a convenient way to export data from spreadsheets and databases and import or use them in other programs.\n",
    "\n",
    "CSV is a simple file format that stores tabular data, such as a spreadsheet or database.\n",
    "\n",
    "A CSV file stores tabular data (numbers and text) in plain text.\n",
    "\n",
    "Each line of the file is a data record/row.\n",
    "\n",
    "Each record consists of one or more fields, separated by commas.\n",
    "\n",
    "The use of the comma as a field separator is the source of the name for this file format."
   ]
  },
  {
   "cell_type": "markdown",
   "id": "2a17b51b",
   "metadata": {},
   "source": [
    "# Working with CSV files in Python"
   ]
  },
  {
   "cell_type": "markdown",
   "id": "6d8e0ce3",
   "metadata": {},
   "source": [
    "For working with CSV files in Python, there is an inbuilt module named csv.\n",
    "\n",
    "However, a common method for working with CSV files is using Pandas. It makes importing and analyzing data much easier.\n",
    "\n",
    "One crucial feature of Pandas is its ability to write and read Excel, CSV, and many other types of files."
   ]
  },
  {
   "cell_type": "markdown",
   "id": "513775a4",
   "metadata": {},
   "source": [
    "# Pandas read_csv"
   ]
  },
  {
   "cell_type": "markdown",
   "id": "9a7fd433",
   "metadata": {},
   "source": [
    "Functions like the Pandas read_csv() method enable you to work with files effectively.\n",
    "\n",
    "The read_csv() function reads the CSV file into a DataFrame object.\n",
    "\n",
    "A CSV file is similar to a two-dimensional table, and the DataFrame object represents a two-dimensional tabular view."
   ]
  },
  {
   "cell_type": "code",
   "execution_count": 24,
   "id": "e291be08",
   "metadata": {},
   "outputs": [],
   "source": [
    "# Syntax\n",
    "# pd.read_csv('filename direction with name of the file .csv')"
   ]
  },
  {
   "cell_type": "markdown",
   "id": "acdc39a0",
   "metadata": {},
   "source": [
    "# Pandas to_csv "
   ]
  },
  {
   "cell_type": "markdown",
   "id": "89df1560",
   "metadata": {},
   "source": [
    "The easiest way to write DataFrames to CSV files is using the Pandas to_csv function."
   ]
  },
  {
   "cell_type": "code",
   "execution_count": 25,
   "id": "ea0dbf02",
   "metadata": {},
   "outputs": [],
   "source": [
    "# Syntax \n",
    "# DataFrame to CSV file\n",
    "# def is the name of the DataFrame here \n",
    "# df.to_csv('file name.csv')"
   ]
  },
  {
   "cell_type": "code",
   "execution_count": null,
   "id": "5ccc492a",
   "metadata": {},
   "outputs": [],
   "source": [
    "# If you want to export without the index, add index=False:\n",
    "# df.to_csv('file direction name of the file.csv', index=False)"
   ]
  },
  {
   "cell_type": "markdown",
   "id": "210d7be8",
   "metadata": {},
   "source": [
    "# Methods and Attributes of DataFrame"
   ]
  },
  {
   "cell_type": "markdown",
   "id": "42fe3fe1",
   "metadata": {},
   "source": [
    "shape attribute\n",
    "shape: It will help you to know the shape of your DataFrame, i.e., (number of rows, number of columns)."
   ]
  },
  {
   "cell_type": "markdown",
   "id": "00eddbdc",
   "metadata": {},
   "source": [
    "head( ) method\n",
    "head( ): It will help you see the first five observations of your DataFrame. You can get some idea about the content of your DataFrame.\n",
    "head() gives us a quick look at the contents of the DataFrame, like column headers, data types of columns, what data each column has, etc."
   ]
  },
  {
   "cell_type": "markdown",
   "id": "632722a9",
   "metadata": {},
   "source": [
    "tail( ) method\n",
    "tail( ): This method is similar to the head() method, but instead of the first five, it will give you the last five observations from your dataset.\n",
    "We can see the dataset's last five observations in the table above."
   ]
  },
  {
   "cell_type": "markdown",
   "id": "94881584",
   "metadata": {},
   "source": [
    "dtypes\n",
    "dtypes: It will help you know about the data types of each column.\n",
    "To know the data types associated with each column, we can use dtypes attribute."
   ]
  },
  {
   "cell_type": "markdown",
   "id": "dd3abd65",
   "metadata": {},
   "source": [
    "info( )\n",
    "info( ): This method will return a concise summary of the DataFrame.\n"
   ]
  },
  {
   "cell_type": "code",
   "execution_count": null,
   "id": "3dd974cf",
   "metadata": {},
   "outputs": [],
   "source": []
  }
 ],
 "metadata": {
  "kernelspec": {
   "display_name": "Python 3 (ipykernel)",
   "language": "python",
   "name": "python3"
  },
  "language_info": {
   "codemirror_mode": {
    "name": "ipython",
    "version": 3
   },
   "file_extension": ".py",
   "mimetype": "text/x-python",
   "name": "python",
   "nbconvert_exporter": "python",
   "pygments_lexer": "ipython3",
   "version": "3.7.9"
  }
 },
 "nbformat": 4,
 "nbformat_minor": 5
}
